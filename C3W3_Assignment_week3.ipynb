{
  "cells": [
    {
      "cell_type": "markdown",
      "id": "14a17241",
      "metadata": {
        "id": "14a17241"
      },
      "source": [
        "\n",
        "# Week 3: Exploring Overfitting in NLP\n",
        "\n",
        "Welcome to this assignment! During this week you saw different ways to handle sequence-like data. You saw how some Keras' layers such as `GRU`, `Conv` and `LSTM` can be used to tackle problems in this space. Now you will put this knowledge into practice by creating a model architecture that does not overfit.\n",
        "\n",
        "For this assignment you will be using a variation of the [Sentiment140 dataset](http://help.sentiment140.com/home), which contains 1.6 million tweets alongside their respective sentiment (0 for negative and 4 for positive).\n",
        "\n",
        "You will also need to create the helper functions very similar to the ones you coded in previous assignments pre-process data and to tokenize sentences. However the objective of the assignment is to find a model architecture that will not overfit.\n",
        "\n",
        "Let's get started!"
      ]
    },
    {
      "cell_type": "code",
      "execution_count": 1,
      "id": "ad536ad1",
      "metadata": {
        "id": "ad536ad1"
      },
      "outputs": [],
      "source": [
        "import csv\n",
        "import random\n",
        "import pickle\n",
        "import numpy as np\n",
        "import tensorflow as tf\n",
        "from tensorflow.keras.preprocessing.text import Tokenizer\n",
        "from tensorflow.keras.preprocessing.sequence import pad_sequences\n",
        "import matplotlib.pyplot as plt\n",
        "from scipy.stats import linregress"
      ]
    },
    {
      "cell_type": "markdown",
      "id": "c0005663",
      "metadata": {
        "id": "c0005663"
      },
      "source": [
        "## Defining some useful global variables\n",
        "\n",
        "Next you will define some global variables that will be used throughout the assignment.\n",
        "\n",
        "- `EMBEDDING_DIM`: Dimension of the dense embedding, will be used in the embedding layer of the model. Defaults to 100.\n",
        "\n",
        "\n",
        "- `MAXLEN`: Maximum length of all sequences. Defaults to 16.\n",
        "\n",
        "\n",
        "- `TRUNCATING`: Truncating strategy (truncate either before or after each sequence.). Defaults to 'post'.\n",
        "\n",
        "\n",
        "- `PADDING`: Padding strategy (pad either before or after each sequence.). Defaults to 'post'.\n",
        "\n",
        "\n",
        "- `OOV_TOKEN`: Token to replace out-of-vocabulary words during text_to_sequence calls. Defaults to \\\"\\\\<OOV>\\\".\n",
        "    \n",
        "    \n",
        "- `MAX_EXAMPLES`: Max number of examples to use. Defaults to 160000 (10% of the original number of examples)\n",
        "    \n",
        "    \n",
        "- `TRAINING_SPLIT`: Proportion of data used for training. Defaults to 0.9\n",
        "    \n",
        "    \n",
        "**For now leave them unchanged but after submitting your assignment for grading you are encouraged to come back here and play with these parameters to see the impact they have in the classification process.**"
      ]
    },
    {
      "cell_type": "code",
      "execution_count": 2,
      "id": "f83af4c9",
      "metadata": {
        "id": "f83af4c9"
      },
      "outputs": [],
      "source": [
        "EMBEDDING_DIM = 100\n",
        "MAXLEN = 16\n",
        "TRUNCATING = 'post'\n",
        "PADDING = 'post'\n",
        "OOV_TOKEN = \"<OOV>\"\n",
        "MAX_EXAMPLES = 160000\n",
        "TRAINING_SPLIT = 0.9"
      ]
    },
    {
      "cell_type": "markdown",
      "id": "5926840a",
      "metadata": {
        "id": "5926840a"
      },
      "source": [
        "## Explore the dataset\n",
        "\n",
        "The dataset is provided in a csv file. \n",
        "\n",
        "Each row of this file contains the following values separated by commas:\n",
        "\n",
        "- target: the polarity of the tweet (0 = negative, 4 = positive)\n",
        "\n",
        "- ids: The id of the tweet\n",
        "\n",
        "- date: the date of the tweet\n",
        "\n",
        "- flag: The query. If there is no query, then this value is NO_QUERY.\n",
        "\n",
        "- user: the user that tweeted\n",
        "\n",
        "- text: the text of the tweet\n",
        "\n",
        "\n",
        "Take a look at the first two examples:"
      ]
    },
    {
      "cell_type": "code",
      "execution_count": 3,
      "id": "d0a3707f",
      "metadata": {
        "colab": {
          "base_uri": "https://localhost:8080/"
        },
        "id": "d0a3707f",
        "outputId": "5ad484f9-f27c-47be-91fe-1155e6fd4828"
      },
      "outputs": [
        {
          "output_type": "stream",
          "name": "stdout",
          "text": [
            "First data point looks like this:\n",
            "\n",
            "\"0\",\"1467810369\",\"Mon Apr 06 22:19:45 PDT 2009\",\"NO_QUERY\",\"_TheSpecialOne_\",\"@switchfoot http://twitpic.com/2y1zl - Awww, that's a bummer.  You shoulda got David Carr of Third Day to do it. ;D\"\n",
            "\n",
            "Second data point looks like this:\n",
            "\n",
            "\"0\",\"1467810672\",\"Mon Apr 06 22:19:49 PDT 2009\",\"NO_QUERY\",\"scotthamilton\",\"is upset that he can't update his Facebook by texting it... and might cry as a result  School today also. Blah!\"\n",
            "\n"
          ]
        }
      ],
      "source": [
        "SENTIMENT_CSV = \"./data/training_cleaned.csv\"\n",
        "\n",
        "with open(SENTIMENT_CSV, 'r') as csvfile:\n",
        "    print(f\"First data point looks like this:\\n\\n{csvfile.readline()}\")\n",
        "    print(f\"Second data point looks like this:\\n\\n{csvfile.readline()}\")"
      ]
    },
    {
      "cell_type": "markdown",
      "id": "52e80cc0",
      "metadata": {
        "id": "52e80cc0"
      },
      "source": [
        "**Notice that this file does not have a header so you won't need to skip the first row when parsing the file.**\n",
        "\n",
        "For the task at hand you will only need the information of the target and the text, which are the first and last element of each row. "
      ]
    },
    {
      "cell_type": "markdown",
      "id": "78b4e033",
      "metadata": {
        "id": "78b4e033"
      },
      "source": [
        "## Parsing the raw data\n",
        "\n",
        "Now you need to read the data from the csv file. To do so, complete the `parse_data_from_file` function.\n",
        "\n",
        "A couple of things to note:\n",
        "\n",
        "- You should NOT omit the first line as the file does not contain headers.\n",
        "- There is no need to save the data points as numpy arrays, regular lists is fine.\n",
        "- To read from csv files use `csv.reader` by passing the appropriate arguments.\n",
        "- `csv.reader` returns an iterable that returns each row in every iteration. So the label can be accessed via `row[0]` and the text via `row[5]`.\n",
        "- The labels are originally encoded as strings ('0' representing negative and '4' representing positive). **You need to change this so that the labels are integers and 0 is used for representing negative, while 1 should represent positive.**\n"
      ]
    },
    {
      "cell_type": "code",
      "execution_count": 4,
      "id": "2d05cacc",
      "metadata": {
        "id": "2d05cacc"
      },
      "outputs": [],
      "source": [
        "def parse_data_from_file(filename):\n",
        "    \n",
        "    sentences = []\n",
        "    labels = []\n",
        "    \n",
        "    with open(filename, 'r') as csvfile:\n",
        "        ### START CODE HERE\n",
        "        reader = csv.reader(csvfile, delimiter=\",\")\n",
        "        for row in reader:\n",
        "            label = row[0]\n",
        "            if label == '0':\n",
        "                labels.append(0)\n",
        "            else:\n",
        "                labels.append(1)                 \n",
        " \n",
        "            sentences.append(row[5])\n",
        "        \n",
        "        ### END CODE HERE\n",
        "        \n",
        "    return sentences, labels"
      ]
    },
    {
      "cell_type": "code",
      "execution_count": 5,
      "id": "87248794",
      "metadata": {
        "colab": {
          "base_uri": "https://localhost:8080/"
        },
        "id": "87248794",
        "outputId": "89657cff-d2d9-46fc-a8fc-7bd5632596b7"
      },
      "outputs": [
        {
          "output_type": "stream",
          "name": "stdout",
          "text": [
            "dataset contains 1600000 examples\n",
            "\n",
            "Text of second example should look like this:\n",
            "is upset that he can't update his Facebook by texting it... and might cry as a result  School today also. Blah!\n",
            "\n",
            "Text of fourth example should look like this:\n",
            "my whole body feels itchy and like its on fire \n",
            "\n",
            "Labels of last 5 examples should look like this:\n",
            "[1, 1, 1, 1, 1]\n"
          ]
        }
      ],
      "source": [
        "# Test your function\n",
        "sentences, labels = parse_data_from_file(SENTIMENT_CSV)\n",
        "\n",
        "print(f\"dataset contains {len(sentences)} examples\\n\")\n",
        "\n",
        "print(f\"Text of second example should look like this:\\n{sentences[1]}\\n\")\n",
        "print(f\"Text of fourth example should look like this:\\n{sentences[3]}\")\n",
        "\n",
        "print(f\"\\nLabels of last 5 examples should look like this:\\n{labels[-5:]}\")"
      ]
    },
    {
      "cell_type": "markdown",
      "id": "5fd814a1",
      "metadata": {
        "id": "5fd814a1"
      },
      "source": [
        "***Expected Output:***\n",
        "\n",
        "```\n",
        "dataset contains 1600000 examples\n",
        "\n",
        "Text of second example should look like this:\n",
        "is upset that he can't update his Facebook by texting it... and might cry as a result  School today also. Blah!\n",
        "\n",
        "Text of fourth example should look like this:\n",
        "my whole body feels itchy and like its on fire \n",
        "\n",
        "Labels of last 5 examples should look like this:\n",
        "[1, 1, 1, 1, 1]\n",
        "\n",
        "```"
      ]
    },
    {
      "cell_type": "markdown",
      "id": "58d0ee0a",
      "metadata": {
        "id": "58d0ee0a"
      },
      "source": [
        "You might have noticed that this dataset contains a lot of examples. In order to keep a low execution time of this assignment you will be using only 10% of the original data. The next cell does this while also randomnizing the datapoints that will be used:"
      ]
    },
    {
      "cell_type": "code",
      "execution_count": 6,
      "id": "2de39800",
      "metadata": {
        "colab": {
          "base_uri": "https://localhost:8080/"
        },
        "id": "2de39800",
        "outputId": "866e770f-d71c-4f13-e342-d98012f54565"
      },
      "outputs": [
        {
          "output_type": "stream",
          "name": "stdout",
          "text": [
            "There are 160000 sentences and 160000 labels after random sampling\n",
            "\n"
          ]
        }
      ],
      "source": [
        "# Bundle the two lists into a single one\n",
        "sentences_and_labels = list(zip(sentences, labels))\n",
        "\n",
        "# Perform random sampling\n",
        "random.seed(42)\n",
        "sentences_and_labels = random.sample(sentences_and_labels, MAX_EXAMPLES)\n",
        "\n",
        "# Unpack back into separate lists\n",
        "sentences, labels = zip(*sentences_and_labels)\n",
        "\n",
        "print(f\"There are {len(sentences)} sentences and {len(labels)} labels after random sampling\\n\")"
      ]
    },
    {
      "cell_type": "markdown",
      "id": "5ef27669",
      "metadata": {
        "id": "5ef27669"
      },
      "source": [
        "***Expected Output:***\n",
        "\n",
        "```\n",
        "There are 160000 sentences and 160000 labels after random sampling\n",
        "\n",
        "```"
      ]
    },
    {
      "cell_type": "markdown",
      "id": "11ce9db2",
      "metadata": {
        "id": "11ce9db2"
      },
      "source": [
        "## Training - Validation Split\n",
        "\n",
        "Now you will code the `train_val_split`, which given the list of sentences, the list of labels and the proportion of data for the training set, should return the training and validation sentences and labels:"
      ]
    },
    {
      "cell_type": "code",
      "execution_count": 7,
      "id": "29d518aa",
      "metadata": {
        "id": "29d518aa"
      },
      "outputs": [],
      "source": [
        "def train_val_split(sentences, labels, training_split):\n",
        "    \n",
        "    ### START CODE HERE\n",
        "    \n",
        "    # Compute the number of sentences that will be used for training (should be an integer)\n",
        "    train_size = int(len(labels)*training_split)\n",
        "\n",
        "    # Split the sentences and labels into train/validation splits\n",
        "    train_sentences = sentences[0:train_size]\n",
        "    train_labels = labels[0:train_size]\n",
        "\n",
        "    validation_sentences = sentences[train_size:]\n",
        "    validation_labels = labels[train_size:]\n",
        "    \n",
        "    ### END CODE HERE\n",
        "    \n",
        "    return train_sentences, validation_sentences, train_labels, validation_labels"
      ]
    },
    {
      "cell_type": "code",
      "execution_count": 8,
      "id": "5ff73c6f",
      "metadata": {
        "colab": {
          "base_uri": "https://localhost:8080/"
        },
        "id": "5ff73c6f",
        "outputId": "79341321-5613-4991-f0a9-6c4b8a6a1c34"
      },
      "outputs": [
        {
          "output_type": "stream",
          "name": "stdout",
          "text": [
            "There are 144000 sentences for training.\n",
            "\n",
            "There are 144000 labels for training.\n",
            "\n",
            "There are 16000 sentences for validation.\n",
            "\n",
            "There are 16000 labels for validation.\n"
          ]
        }
      ],
      "source": [
        "# Test your function\n",
        "train_sentences, val_sentences, train_labels, val_labels = train_val_split(sentences, labels, TRAINING_SPLIT)\n",
        "\n",
        "print(f\"There are {len(train_sentences)} sentences for training.\\n\")\n",
        "print(f\"There are {len(train_labels)} labels for training.\\n\")\n",
        "print(f\"There are {len(val_sentences)} sentences for validation.\\n\")\n",
        "print(f\"There are {len(val_labels)} labels for validation.\")"
      ]
    },
    {
      "cell_type": "markdown",
      "id": "42672d60",
      "metadata": {
        "id": "42672d60"
      },
      "source": [
        "***Expected Output:***\n",
        "\n",
        "```\n",
        "There are 144000 sentences for training.\n",
        "\n",
        "There are 144000 labels for training.\n",
        "\n",
        "There are 16000 sentences for validation.\n",
        "\n",
        "There are 16000 labels for validation.\n",
        "\n",
        "```"
      ]
    },
    {
      "cell_type": "markdown",
      "id": "748ace09",
      "metadata": {
        "id": "748ace09"
      },
      "source": [
        "## Tokenization - Sequences, truncating and padding\n",
        "\n",
        "Now that you have sets for training and validation it is time for you to begin the tokenization process.\n",
        "\n",
        "Begin by completing the `fit_tokenizer` function below. This function should return a [Tokenizer](https://www.tensorflow.org/api_docs/python/tf/keras/preprocessing/text/Tokenizer) that has been fitted to the training sentences."
      ]
    },
    {
      "cell_type": "code",
      "execution_count": 9,
      "id": "4d799486",
      "metadata": {
        "id": "4d799486"
      },
      "outputs": [],
      "source": [
        "def fit_tokenizer(train_sentences, oov_token):\n",
        "    \n",
        "    ### START CODE HERE\n",
        "    \n",
        "    # Instantiate the Tokenizer class, passing in the correct values for num_words and oov_token\n",
        "    tokenizer = Tokenizer( oov_token=oov_token)\n",
        "    \n",
        "    # Fit the tokenizer to the training sentences\n",
        "    tokenizer.fit_on_texts(train_sentences)\n",
        "    \n",
        "    ### END CODE HERE\n",
        "    \n",
        "    return tokenizer"
      ]
    },
    {
      "cell_type": "code",
      "execution_count": 10,
      "id": "08f59dfc",
      "metadata": {
        "colab": {
          "base_uri": "https://localhost:8080/"
        },
        "id": "08f59dfc",
        "outputId": "cb8485c8-4bb6-45c9-fa3a-8178cbd5266c"
      },
      "outputs": [
        {
          "output_type": "stream",
          "name": "stdout",
          "text": [
            "Vocabulary contains 128293 words\n",
            "\n",
            "<OOV> token included in vocabulary\n",
            "\n",
            "index of word 'i' should be 2\n"
          ]
        }
      ],
      "source": [
        "# Test your function\n",
        "tokenizer = fit_tokenizer(train_sentences, OOV_TOKEN)\n",
        "\n",
        "word_index = tokenizer.word_index\n",
        "VOCAB_SIZE = len(word_index)\n",
        "\n",
        "print(f\"Vocabulary contains {VOCAB_SIZE} words\\n\")\n",
        "print(\"<OOV> token included in vocabulary\" if \"<OOV>\" in word_index else \"<OOV> token NOT included in vocabulary\")\n",
        "print(f\"\\nindex of word 'i' should be {word_index['i']}\")"
      ]
    },
    {
      "cell_type": "markdown",
      "id": "7d14c34f",
      "metadata": {
        "id": "7d14c34f"
      },
      "source": [
        "***Expected Output:***\n",
        "\n",
        "```\n",
        "Vocabulary contains 128293 words\n",
        "\n",
        "<OOV> token included in vocabulary\n",
        "\n",
        "index of word 'i' should be 2\n",
        "\n",
        "```"
      ]
    },
    {
      "cell_type": "code",
      "execution_count": 11,
      "id": "c929b515",
      "metadata": {
        "id": "c929b515"
      },
      "outputs": [],
      "source": [
        "def seq_pad_and_trunc(sentences, tokenizer, padding, truncating, maxlen):\n",
        "    \n",
        "    ### START CODE HERE\n",
        "    tokenizer = Tokenizer()   \n",
        "    # Convert sentences to sequences\n",
        "    sequences = tokenizer.texts_to_sequences(sentences)\n",
        "    \n",
        "    # Pad the sequences using the correct padding, truncating and maxlen\n",
        "    pad_trunc_sequences = pad_sequences(sequences, maxlen=maxlen, padding=padding, truncating=truncating)\n",
        "    \n",
        "    ### END CODE HERE\n",
        "    \n",
        "    return pad_trunc_sequences"
      ]
    },
    {
      "cell_type": "code",
      "execution_count": 12,
      "id": "e2a152ab",
      "metadata": {
        "colab": {
          "base_uri": "https://localhost:8080/"
        },
        "id": "e2a152ab",
        "outputId": "d7fff4a7-1851-4071-f134-807d6efc2127"
      },
      "outputs": [
        {
          "output_type": "stream",
          "name": "stdout",
          "text": [
            "Padded and truncated training sequences have shape: (144000, 16)\n",
            "\n",
            "Padded and truncated validation sequences have shape: (16000, 16)\n"
          ]
        }
      ],
      "source": [
        "# Test your function\n",
        "train_pad_trunc_seq = seq_pad_and_trunc(train_sentences, tokenizer, PADDING, TRUNCATING, MAXLEN)\n",
        "val_pad_trunc_seq = seq_pad_and_trunc(val_sentences, tokenizer, PADDING, TRUNCATING, MAXLEN)\n",
        "\n",
        "print(f\"Padded and truncated training sequences have shape: {train_pad_trunc_seq.shape}\\n\")\n",
        "print(f\"Padded and truncated validation sequences have shape: {val_pad_trunc_seq.shape}\")"
      ]
    },
    {
      "cell_type": "markdown",
      "id": "62049894",
      "metadata": {
        "id": "62049894"
      },
      "source": [
        "***Expected Output:***\n",
        "\n",
        "```\n",
        "Padded and truncated training sequences have shape: (144000, 16)\n",
        "\n",
        "Padded and truncated validation sequences have shape: (16000, 16)\n",
        "\n",
        "```"
      ]
    },
    {
      "cell_type": "markdown",
      "id": "43b1780a",
      "metadata": {
        "id": "43b1780a"
      },
      "source": [
        "Remember that the `pad_sequences` function returns numpy arrays, so your training and validation sequences are already in this format.\n",
        "\n",
        "However the labels are still Python lists. Before going forward you should convert them numpy arrays as well. You can do this by running the following cell:"
      ]
    },
    {
      "cell_type": "code",
      "execution_count": 13,
      "id": "6ee9e9e3",
      "metadata": {
        "id": "6ee9e9e3"
      },
      "outputs": [],
      "source": [
        "train_labels = np.array(train_labels)\n",
        "val_labels = np.array(val_labels)"
      ]
    },
    {
      "cell_type": "markdown",
      "id": "842252a2",
      "metadata": {
        "id": "842252a2"
      },
      "source": [
        "# Using pre-defined Embeddings\n",
        "\n",
        "This time you will not be learning embeddings from your data but you will be using pre-trained word vectors.\n",
        "\n",
        "In particular you will be using the 100 dimension version of [GloVe](https://nlp.stanford.edu/projects/glove/) from Stanford."
      ]
    },
    {
      "cell_type": "code",
      "execution_count": 14,
      "id": "4b4a97d6",
      "metadata": {
        "id": "4b4a97d6"
      },
      "outputs": [],
      "source": [
        "# Define path to file containing the embeddings\n",
        "GLOVE_FILE = './data/glove.6B.100d.txt'\n",
        "\n",
        "# Initialize an empty embeddings index dictionary\n",
        "GLOVE_EMBEDDINGS = {}\n",
        "\n",
        "# Read file and fill GLOVE_EMBEDDINGS with its contents\n",
        "with open(GLOVE_FILE) as f:\n",
        "    for line in f:\n",
        "        values = line.split()\n",
        "        word = values[0]\n",
        "        coefs = np.asarray(values[1:], dtype='float32')\n",
        "        GLOVE_EMBEDDINGS[word] = coefs"
      ]
    },
    {
      "cell_type": "markdown",
      "id": "af661535",
      "metadata": {
        "id": "af661535"
      },
      "source": [
        "Now you have access to GloVe's pre-trained word vectors. Isn't that cool?\n",
        "\n",
        "Let's take a look at the vector for the word **dog**:"
      ]
    },
    {
      "cell_type": "code",
      "execution_count": 15,
      "id": "8e2b6e89",
      "metadata": {
        "colab": {
          "base_uri": "https://localhost:8080/"
        },
        "id": "8e2b6e89",
        "outputId": "7657e319-8067-4587-9a6c-4aba1553f985"
      },
      "outputs": [
        {
          "output_type": "stream",
          "name": "stdout",
          "text": [
            "Vector representation of word dog looks like this:\n",
            "\n",
            "[ 0.30817    0.30938    0.52803   -0.92543   -0.73671    0.63475\n",
            "  0.44197    0.10262   -0.09142   -0.56607   -0.5327     0.2013\n",
            "  0.7704    -0.13983    0.13727    1.1128     0.89301   -0.17869\n",
            " -0.0019722  0.57289    0.59479    0.50428   -0.28991   -1.3491\n",
            "  0.42756    1.2748    -1.1613    -0.41084    0.042804   0.54866\n",
            "  0.18897    0.3759     0.58035    0.66975    0.81156    0.93864\n",
            " -0.51005   -0.070079   0.82819   -0.35346    0.21086   -0.24412\n",
            " -0.16554   -0.78358   -0.48482    0.38968   -0.86356   -0.016391\n",
            "  0.31984   -0.49246   -0.069363   0.018869  -0.098286   1.3126\n",
            " -0.12116   -1.2399    -0.091429   0.35294    0.64645    0.089642\n",
            "  0.70294    1.1244     0.38639    0.52084    0.98787    0.79952\n",
            " -0.34625    0.14095    0.80167    0.20987   -0.86007   -0.15308\n",
            "  0.074523   0.40816    0.019208   0.51587   -0.34428   -0.24525\n",
            " -0.77984    0.27425    0.22418    0.20164    0.017431  -0.014697\n",
            " -1.0235    -0.39695   -0.0056188  0.30569    0.31748    0.021404\n",
            "  0.11837   -0.11319    0.42456    0.53405   -0.16717   -0.27185\n",
            " -0.6255     0.12883    0.62529   -0.52086  ]\n"
          ]
        }
      ],
      "source": [
        "test_word = 'dog'\n",
        "\n",
        "test_vector = GLOVE_EMBEDDINGS[test_word]\n",
        "\n",
        "print(f\"Vector representation of word {test_word} looks like this:\\n\\n{test_vector}\")"
      ]
    },
    {
      "cell_type": "markdown",
      "id": "4483d596",
      "metadata": {
        "id": "4483d596"
      },
      "source": [
        "Feel free to change the `test_word` to see the vector representation of any word you can think of.\n",
        "\n",
        "Also, notice that the dimension of each vector is 100. You can easily double check this by running the following cell:"
      ]
    },
    {
      "cell_type": "code",
      "execution_count": 16,
      "id": "71e55959",
      "metadata": {
        "colab": {
          "base_uri": "https://localhost:8080/"
        },
        "id": "71e55959",
        "outputId": "d6c2e35a-ab0e-4c41-c5f1-0eb28a0216d7"
      },
      "outputs": [
        {
          "output_type": "stream",
          "name": "stdout",
          "text": [
            "Each word vector has shape: (100,)\n"
          ]
        }
      ],
      "source": [
        "print(f\"Each word vector has shape: {test_vector.shape}\")"
      ]
    },
    {
      "cell_type": "markdown",
      "id": "95dde313",
      "metadata": {
        "id": "95dde313"
      },
      "source": [
        "## Represent the words in your vocabulary using the embeddings\n",
        "\n",
        "Save the vector representation of each word in the vocabulary in a numpy array.\n",
        "\n",
        "A couple of things to notice:\n",
        "- If a word in your vocabulary is not present in `GLOVE_EMBEDDINGS` the representation for that word is left as a column of zeros.\n",
        "- `word_index` starts counting at 1, because of this you will need to add an extra column at the left-most side of the `EMBEDDINGS_MATRIX` array. This is the reason why you add 1 to `VOCAB_SIZE` in the cell below:"
      ]
    },
    {
      "cell_type": "code",
      "execution_count": 17,
      "id": "e0c74282",
      "metadata": {
        "id": "e0c74282"
      },
      "outputs": [],
      "source": [
        "# Initialize an empty numpy array with the appropriate size\n",
        "EMBEDDINGS_MATRIX = np.zeros((VOCAB_SIZE+1, EMBEDDING_DIM))\n",
        "\n",
        "# Iterate all of the words in the vocabulary and if the vector representation for \n",
        "# each word exists within GloVe's representations, save it in the EMBEDDINGS_MATRIX array\n",
        "for word, i in word_index.items():\n",
        "    embedding_vector = GLOVE_EMBEDDINGS.get(word)\n",
        "    if embedding_vector is not None:\n",
        "        EMBEDDINGS_MATRIX[i] = embedding_vector"
      ]
    },
    {
      "cell_type": "markdown",
      "id": "53905c8a",
      "metadata": {
        "id": "53905c8a"
      },
      "source": [
        "Now you have the pre-trained embeddings ready to use!"
      ]
    },
    {
      "cell_type": "markdown",
      "id": "5bf301af",
      "metadata": {
        "id": "5bf301af"
      },
      "source": [
        "## Define a model that does not overfit\n",
        "\n",
        "Now you need to define a model that will handle the problem at hand while not overfitting.\n",
        "\n",
        "A couple of things to note / hints:\n",
        "\n",
        "- The first layer is provided so you can see how the Embedding layer is configured when using pre-trained embeddings\n",
        "\n",
        "\n",
        "- You can try different combinations of layers covered in previous ungraded labs such as:\n",
        "    - `Conv1D`\n",
        "    - `Dropout`\n",
        "    - `GlobalMaxPooling1D`    \n",
        "    - `MaxPooling1D`    \n",
        "    - `LSTM`    \n",
        "    - `Bidirectional(LSTM)`\n",
        "\n",
        "\n",
        "- The last two layers should be `Dense` layers.\n",
        "\n",
        "\n",
        "- There multiple ways of solving this problem. So try an architecture that you think will not overfit.\n",
        "\n",
        "\n",
        "- Try simpler architectures first to avoid long training times. Architectures that are able to solve this problem usually have around 3-4 layers (excluding the last two `Dense` ones)\n",
        "\n",
        "\n",
        "- Include at least one `Dropout` layer to mitigate overfitting."
      ]
    },
    {
      "cell_type": "code",
      "execution_count": 30,
      "id": "8f7485ce",
      "metadata": {
        "id": "8f7485ce"
      },
      "outputs": [],
      "source": [
        "# GRADED FUNCTION: create_model\n",
        "\n",
        "#embedding_dim = 64\n",
        "def create_model(vocab_size, embedding_dim, maxlen, embeddings_matrix):\n",
        "    \n",
        "    ### START CODE HERE\n",
        "    \n",
        "    model = tf.keras.Sequential([ \n",
        "        # This is how you need to set the Embedding layer when using pre-trained embeddings\n",
        "        tf.keras.layers.Embedding(vocab_size+1, embedding_dim, input_length=maxlen, weights=[embeddings_matrix], trainable=False),\n",
        "        tf.keras.layers.Dropout(0.2),\n",
        "        tf.keras.layers.Conv1D(64, 5, activation='relu'),\n",
        "        tf.keras.layers.MaxPooling1D(pool_size=4),\n",
        "        #tf.keras.layers.GlobalAveragePooling1D(),\n",
        "        tf.keras.layers.LSTM(64),\n",
        "       # tf.keras.layers.Dense(8, activation='relu'),\n",
        "        tf.keras.layers.Dense(1, activation='sigmoid')\n",
        "    ])\n",
        "    \n",
        "    model.compile(loss='binary_crossentropy',\n",
        "                  optimizer='adam',\n",
        "                  metrics=['accuracy']) \n",
        "    # Print the model summary\n",
        "#    print(model.summary())\n",
        "\n",
        "    ### END CODE HERE\n",
        "\n",
        "    return model"
      ]
    },
    {
      "cell_type": "code",
      "execution_count": 31,
      "id": "83dfab8f",
      "metadata": {
        "colab": {
          "base_uri": "https://localhost:8080/"
        },
        "id": "83dfab8f",
        "outputId": "33012462-4f81-4ff6-f319-9137b2f31439"
      },
      "outputs": [
        {
          "output_type": "execute_result",
          "data": {
            "text/plain": [
              "(144000, 16)"
            ]
          },
          "metadata": {},
          "execution_count": 31
        }
      ],
      "source": [
        "train_pad_trunc_seq.shape"
      ]
    },
    {
      "cell_type": "code",
      "execution_count": 32,
      "id": "b76bec04",
      "metadata": {
        "colab": {
          "base_uri": "https://localhost:8080/"
        },
        "id": "b76bec04",
        "outputId": "5629becb-34b5-4fb3-f7b6-74e6265e08c8"
      },
      "outputs": [
        {
          "output_type": "execute_result",
          "data": {
            "text/plain": [
              "(144000,)"
            ]
          },
          "metadata": {},
          "execution_count": 32
        }
      ],
      "source": [
        "train_labels.shape"
      ]
    },
    {
      "cell_type": "code",
      "execution_count": 33,
      "id": "14814703",
      "metadata": {
        "scrolled": true,
        "colab": {
          "base_uri": "https://localhost:8080/"
        },
        "id": "14814703",
        "outputId": "9fe506e6-4d13-4f9a-bf85-91a79c9e8203"
      },
      "outputs": [
        {
          "output_type": "stream",
          "name": "stdout",
          "text": [
            "Epoch 1/20\n",
            "4500/4500 [==============================] - 48s 10ms/step - loss: 0.6932 - accuracy: 0.4985 - val_loss: 0.6933 - val_accuracy: 0.4938\n",
            "Epoch 2/20\n",
            "4500/4500 [==============================] - 41s 9ms/step - loss: 0.6932 - accuracy: 0.5006 - val_loss: 0.6931 - val_accuracy: 0.5063\n",
            "Epoch 3/20\n",
            "4500/4500 [==============================] - 40s 9ms/step - loss: 0.6932 - accuracy: 0.4999 - val_loss: 0.6933 - val_accuracy: 0.4938\n",
            "Epoch 4/20\n",
            "4500/4500 [==============================] - 44s 10ms/step - loss: 0.6932 - accuracy: 0.5006 - val_loss: 0.6931 - val_accuracy: 0.5063\n",
            "Epoch 5/20\n",
            "4500/4500 [==============================] - 49s 11ms/step - loss: 0.6932 - accuracy: 0.4997 - val_loss: 0.6931 - val_accuracy: 0.5063\n",
            "Epoch 6/20\n",
            "4500/4500 [==============================] - 51s 11ms/step - loss: 0.6932 - accuracy: 0.4989 - val_loss: 0.6931 - val_accuracy: 0.5063\n",
            "Epoch 7/20\n",
            "4500/4500 [==============================] - 49s 11ms/step - loss: 0.6932 - accuracy: 0.5005 - val_loss: 0.6932 - val_accuracy: 0.4938\n",
            "Epoch 8/20\n",
            "4500/4500 [==============================] - 48s 11ms/step - loss: 0.6932 - accuracy: 0.4993 - val_loss: 0.6933 - val_accuracy: 0.4938\n",
            "Epoch 9/20\n",
            "4500/4500 [==============================] - 47s 11ms/step - loss: 0.6932 - accuracy: 0.4997 - val_loss: 0.6933 - val_accuracy: 0.4938\n",
            "Epoch 10/20\n",
            "4500/4500 [==============================] - 45s 10ms/step - loss: 0.6932 - accuracy: 0.5018 - val_loss: 0.6933 - val_accuracy: 0.4938\n",
            "Epoch 11/20\n",
            "4500/4500 [==============================] - 43s 10ms/step - loss: 0.6932 - accuracy: 0.5010 - val_loss: 0.6933 - val_accuracy: 0.4938\n",
            "Epoch 12/20\n",
            "4500/4500 [==============================] - 42s 9ms/step - loss: 0.6932 - accuracy: 0.5009 - val_loss: 0.6933 - val_accuracy: 0.4938\n",
            "Epoch 13/20\n",
            "4500/4500 [==============================] - 42s 9ms/step - loss: 0.6932 - accuracy: 0.5014 - val_loss: 0.6935 - val_accuracy: 0.4938\n",
            "Epoch 14/20\n",
            "4500/4500 [==============================] - 43s 10ms/step - loss: 0.6932 - accuracy: 0.5021 - val_loss: 0.6931 - val_accuracy: 0.5063\n",
            "Epoch 15/20\n",
            "4500/4500 [==============================] - 43s 10ms/step - loss: 0.6932 - accuracy: 0.5002 - val_loss: 0.6933 - val_accuracy: 0.4938\n",
            "Epoch 16/20\n",
            "4500/4500 [==============================] - 40s 9ms/step - loss: 0.6932 - accuracy: 0.5004 - val_loss: 0.6932 - val_accuracy: 0.4938\n",
            "Epoch 17/20\n",
            "4500/4500 [==============================] - 42s 9ms/step - loss: 0.6932 - accuracy: 0.5013 - val_loss: 0.6932 - val_accuracy: 0.4938\n",
            "Epoch 18/20\n",
            "4500/4500 [==============================] - 40s 9ms/step - loss: 0.6932 - accuracy: 0.5007 - val_loss: 0.6931 - val_accuracy: 0.4938\n",
            "Epoch 19/20\n",
            "4500/4500 [==============================] - 40s 9ms/step - loss: 0.6932 - accuracy: 0.4996 - val_loss: 0.6931 - val_accuracy: 0.5063\n",
            "Epoch 20/20\n",
            "4500/4500 [==============================] - 42s 9ms/step - loss: 0.6932 - accuracy: 0.5005 - val_loss: 0.6932 - val_accuracy: 0.4938\n"
          ]
        }
      ],
      "source": [
        "# Create your untrained model\n",
        "model = create_model(VOCAB_SIZE, EMBEDDING_DIM, MAXLEN, EMBEDDINGS_MATRIX)\n",
        "\n",
        "# Train the model and save the training history\n",
        "history = model.fit(train_pad_trunc_seq, train_labels, epochs=20, validation_data=(val_pad_trunc_seq, val_labels))\n"
      ]
    },
    {
      "cell_type": "markdown",
      "id": "c71f9bb5",
      "metadata": {
        "id": "c71f9bb5"
      },
      "source": [
        "**To pass this assignment your `val_loss` (validation loss) should either be flat or decreasing.** \n",
        "\n",
        "Although a flat `val_loss` and a lowering `train_loss` (or just `loss`) also indicate some overfitting what you really want to avoid is having a lowering `train_loss` and an increasing `val_loss`.\n",
        "\n",
        "With this in mind, the following three curves will be acceptable solutions:"
      ]
    },
    {
      "cell_type": "markdown",
      "id": "e1e57f27",
      "metadata": {
        "id": "e1e57f27"
      },
      "source": [
        "<table><tr><td><img src='images/valid-1.png'></td><td><img src='images/valid-2.jpg'></td><td><img src='images/valid-3.jpg'></td></tr></table>"
      ]
    },
    {
      "cell_type": "markdown",
      "id": "3f62222e",
      "metadata": {
        "id": "3f62222e"
      },
      "source": [
        "While the following would not be able to pass the grading:"
      ]
    },
    {
      "cell_type": "markdown",
      "id": "80516373",
      "metadata": {
        "id": "80516373"
      },
      "source": [
        "<table><tr><td><img src='images/invalid-1.jpg'></td></tr></table>"
      ]
    },
    {
      "cell_type": "markdown",
      "id": "515d68d2",
      "metadata": {
        "id": "515d68d2"
      },
      "source": [
        "Run the following cell to check your loss curves:"
      ]
    },
    {
      "cell_type": "code",
      "execution_count": 34,
      "id": "7be2c08f",
      "metadata": {
        "colab": {
          "base_uri": "https://localhost:8080/",
          "height": 295
        },
        "id": "7be2c08f",
        "outputId": "d1661c98-788e-4065-926d-a077438d4052"
      },
      "outputs": [
        {
          "output_type": "display_data",
          "data": {
            "text/plain": [
              "<Figure size 432x288 with 1 Axes>"
            ],
            "image/png": "[encoded data removed]"
          },
          "metadata": {
            "needs_background": "light"
          }
        }
      ],
      "source": [
        "#-----------------------------------------------------------\n",
        "# Retrieve a list of list results on training and test data\n",
        "# sets for each training epoch\n",
        "#-----------------------------------------------------------\n",
        "loss = history.history['loss']\n",
        "val_loss = history.history['val_loss']\n",
        "\n",
        "epochs = [*range(20)]\n",
        "\n",
        "#------------------------------------------------\n",
        "# Plot training and validation loss per epoch\n",
        "#------------------------------------------------\n",
        "plt.plot(epochs, loss, 'r')\n",
        "plt.plot(epochs, val_loss, 'b')\n",
        "plt.title('Training and validation loss')\n",
        "plt.xlabel(\"Epochs\")\n",
        "plt.ylabel(\"Loss\")\n",
        "plt.legend([\"Loss\", \"Validation Loss\"])\n",
        "plt.show()"
      ]
    },
    {
      "cell_type": "markdown",
      "id": "bbeb126e",
      "metadata": {
        "id": "bbeb126e"
      },
      "source": [
        "If you wish so, you can also check the training and validation accuracies of your model:"
      ]
    },
    {
      "cell_type": "code",
      "execution_count": 35,
      "id": "74f67611",
      "metadata": {
        "colab": {
          "base_uri": "https://localhost:8080/",
          "height": 295
        },
        "id": "74f67611",
        "outputId": "52640b90-0411-4cd1-c53a-543fffcdf42c"
      },
      "outputs": [
        {
          "output_type": "display_data",
          "data": {
            "text/plain": [
              "<Figure size 432x288 with 1 Axes>"
            ],
            "image/png": "[encoded data removed]"
          },
          "metadata": {
            "needs_background": "light"
          }
        }
      ],
      "source": [
        "acc = history.history['accuracy']\n",
        "val_acc = history.history['val_accuracy']\n",
        "\n",
        "#------------------------------------------------\n",
        "# Plot training and validation accuracy per epoch\n",
        "#------------------------------------------------\n",
        "plt.plot(epochs, acc, 'r')\n",
        "plt.plot(epochs, val_acc, 'b')\n",
        "plt.title('Training and validation accuracy')\n",
        "plt.xlabel(\"Epochs\")\n",
        "plt.ylabel(\"Accuracy\")\n",
        "plt.legend([\"Accuracy\", \"Validation Accuracy\"])\n",
        "plt.show()"
      ]
    },
    {
      "cell_type": "markdown",
      "id": "247f8935",
      "metadata": {
        "id": "247f8935"
      },
      "source": [
        "A more rigorous way of setting the passing threshold of this assignment is to use the slope of your `val_loss` curve.\n",
        "\n",
        "**To pass this assignment the slope of your `val_loss` curve should be 0.0005 at maximum.**"
      ]
    },
    {
      "cell_type": "code",
      "execution_count": 25,
      "id": "2be165e0",
      "metadata": {
        "colab": {
          "base_uri": "https://localhost:8080/"
        },
        "id": "2be165e0",
        "outputId": "4edf6f5f-9012-488b-aa21-48eaae29ed42"
      },
      "outputs": [
        {
          "output_type": "stream",
          "name": "stdout",
          "text": [
            "The slope of your validation loss curve is 0.00000\n"
          ]
        }
      ],
      "source": [
        "# Test the slope of your val_loss curve\n",
        "slope, *_ = linregress(epochs, val_loss)\n",
        "print(f\"The slope of your validation loss curve is {slope:.5f}\")"
      ]
    },
    {
      "cell_type": "markdown",
      "id": "310ff48b",
      "metadata": {
        "id": "310ff48b"
      },
      "source": [
        "**If your model generated a validation loss curve that meets the criteria above, run the following cell and then submit your assignment for grading. Otherwise, try with a different architecture.**"
      ]
    },
    {
      "cell_type": "code",
      "execution_count": 26,
      "id": "6741b2cb",
      "metadata": {
        "id": "6741b2cb"
      },
      "outputs": [],
      "source": [
        "with open('history.pkl', 'wb') as f:\n",
        "    pickle.dump(history.history, f)"
      ]
    },
    {
      "cell_type": "markdown",
      "id": "f159f395",
      "metadata": {
        "id": "f159f395"
      },
      "source": [
        "**Congratulations on finishing this week's assignment!**\n",
        "\n",
        "You have successfully implemented a neural network capable of classifying sentiment in text data while doing a fairly good job of not overfitting! Nice job!\n",
        "\n",
        "**Keep it up!**"
      ]
    }
  ],
  "metadata": {
    "kernelspec": {
      "display_name": "Python 3 (ipykernel)",
      "language": "python",
      "name": "python3"
    },
    "language_info": {
      "codemirror_mode": {
        "name": "ipython",
        "version": 3
      },
      "file_extension": ".py",
      "mimetype": "text/x-python",
      "name": "python",
      "nbconvert_exporter": "python",
      "pygments_lexer": "ipython3",
      "version": "3.9.12"
    },
    "colab": {
      "name": "C3W3_Assignment.ipynb",
      "provenance": []
    }
  },
  "nbformat": 4,
  "nbformat_minor": 5
}